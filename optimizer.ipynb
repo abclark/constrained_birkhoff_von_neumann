{
  "nbformat": 4,
  "nbformat_minor": 0,
  "metadata": {
    "colab": {
      "provenance": [],
      "authorship_tag": "ABX9TyMelXlIfgX6iXjzy2cdJCnF",
      "include_colab_link": true
    },
    "kernelspec": {
      "name": "python3",
      "display_name": "Python 3"
    },
    "language_info": {
      "name": "python"
    }
  },
  "cells": [
    {
      "cell_type": "markdown",
      "metadata": {
        "id": "view-in-github",
        "colab_type": "text"
      },
      "source": [
        "<a href=\"https://colab.research.google.com/github/abclark/constrained_birkhoff_von_neumann/blob/master/optimizer.ipynb\" target=\"_parent\"><img src=\"https://colab.research.google.com/assets/colab-badge.svg\" alt=\"Open In Colab\"/></a>"
      ]
    },
    {
      "cell_type": "markdown",
      "source": [
        "## Imports\n"
      ],
      "metadata": {
        "id": "b2FI7ppC-MNB"
      }
    },
    {
      "cell_type": "code",
      "source": [
        "\n",
        "import numpy as np\n",
        "from typing import Union, List\n",
        "from matplotlib import pyplot as plt\n"
      ],
      "metadata": {
        "id": "yKmOSpLemQQn"
      },
      "execution_count": 1,
      "outputs": []
    },
    {
      "cell_type": "markdown",
      "source": [
        "\n",
        "## Constants\n"
      ],
      "metadata": {
        "id": "iYdFUynVmRmB"
      }
    },
    {
      "cell_type": "code",
      "source": [
        "\n",
        "NUM_DECISIONS = 2\n",
        "NUM_STATES = 2\n",
        "PRIOR = np.array([0.5, 0.5])\n",
        "CONTRACT = np.array([[1, 2], [2, 1]])\n",
        "EXPERIMENT = np.array([[0.5, 0.5], [0.5, 0.5]])\n",
        "UNINFORMATIVE_EXPERIMENT = np.array([[0.5, 0.5], [0.5, 0.5]])\n",
        "MAX_INFORMATIVE_EXPERIMENT = np.array([[1, 0], [0, 1]])\n",
        "ALWAYS_SIGNAL_ONE_EXPERIMENT = np.array([[1, 0], [1, 0]])\n"
      ],
      "metadata": {
        "id": "7dEnzBF4mU4J"
      },
      "execution_count": 2,
      "outputs": []
    },
    {
      "cell_type": "markdown",
      "source": [
        "\n",
        "## Entropy\n"
      ],
      "metadata": {
        "id": "BT0Kj6K4mXQM"
      }
    },
    {
      "cell_type": "code",
      "source": [
        "\n",
        "def get_entropy(p: List[float]):\n",
        "\n",
        "  assert(len(p) == NUM_STATES)\n",
        "\n",
        "  assert(sum(p) == 1)\n",
        "\n",
        "  for i in p:\n",
        "    assert(i >= 0)\n",
        "\n",
        "  val = -sum([i * np.log(i) if i != 0 else 0 for i in p])\n",
        "\n",
        "  return val\n",
        "\n",
        "def test_get_entropy():\n",
        "  \n",
        "  assert(get_entropy([1, 0]) == 0)\n",
        "\n",
        "  assert(get_entropy([0, 1]) == 0)\n",
        "\n",
        "test_get_entropy()\n",
        "\n",
        "# plot entropy\n",
        "ts = np.linspace(0, 1, 100)\n",
        "ps = [[t, 1 - t] for t in ts]\n",
        "es = [get_entropy(i) for i in ps]\n",
        "plt.plot(ts, es)\n"
      ],
      "metadata": {
        "colab": {
          "base_uri": "https://localhost:8080/",
          "height": 283
        },
        "id": "NjVz3EGjmvMD",
        "outputId": "c6897cf4-3026-4a5b-ad3d-09b5c3302673"
      },
      "execution_count": 3,
      "outputs": [
        {
          "output_type": "execute_result",
          "data": {
            "text/plain": [
              "[<matplotlib.lines.Line2D at 0x7fc29238cf10>]"
            ]
          },
          "metadata": {},
          "execution_count": 3
        },
        {
          "output_type": "display_data",
          "data": {
            "text/plain": [
              "<Figure size 432x288 with 1 Axes>"
            ],
            "image/png": "[encoded data removed]"
          },
          "metadata": {
            "needs_background": "light"
          }
        }
      ]
    },
    {
      "cell_type": "markdown",
      "source": [
        "\n",
        "## Total Probabilities\n"
      ],
      "metadata": {
        "id": "fa18T4o7mbB4"
      }
    },
    {
      "cell_type": "code",
      "source": [
        "\n",
        "def get_signal_total_probability(experiment: List[List[float]]):\n",
        "\n",
        "  val = [sum([experiment[i][j] * PRIOR[i] for i in range(NUM_STATES)]) for j in range(NUM_DECISIONS)] \n",
        "\n",
        "  return val\n",
        "\n",
        "\n",
        "def test_get_signal_total_probability():\n",
        "\n",
        "  assert(get_signal_total_probability(UNINFORMATIVE_EXPERIMENT)[0] == PRIOR[0])\n",
        "  \n",
        "  assert(get_signal_total_probability(ALWAYS_SIGNAL_ONE_EXPERIMENT)[0] == 1)\n",
        "\n",
        "\n",
        "test_get_signal_total_probability()\n",
        "\n",
        "\n",
        "ts = np.linspace(0, 1, 100)\n",
        "ps = [(1 - t) * UNINFORMATIVE_EXPERIMENT + t * ALWAYS_SIGNAL_ONE_EXPERIMENT for t in ts]\n",
        "tps = [get_signal_total_probability(i) for i in ps]\n",
        "plt.plot(ts, tps)\n"
      ],
      "metadata": {
        "colab": {
          "base_uri": "https://localhost:8080/",
          "height": 301
        },
        "id": "oKITUKMHmb56",
        "outputId": "17779a4a-ba70-4688-a4b9-3ea231a3e090"
      },
      "execution_count": 4,
      "outputs": [
        {
          "output_type": "execute_result",
          "data": {
            "text/plain": [
              "[<matplotlib.lines.Line2D at 0x7fc28c1acf50>,\n",
              " <matplotlib.lines.Line2D at 0x7fc28c1b71d0>]"
            ]
          },
          "metadata": {},
          "execution_count": 4
        },
        {
          "output_type": "display_data",
          "data": {
            "text/plain": [
              "<Figure size 432x288 with 1 Axes>"
            ],
            "image/png": "[encoded data removed]"
          },
          "metadata": {
            "needs_background": "light"
          }
        }
      ]
    },
    {
      "cell_type": "markdown",
      "source": [
        "## Posterior Probability"
      ],
      "metadata": {
        "id": "7TQzV7fSnhIi"
      }
    },
    {
      "cell_type": "code",
      "source": [
        "\n",
        "def get_posteriors(experiment: List[List[float]]):\n",
        "\n",
        "  # p(state given signal) = p(signal and state) / p(signal)\n",
        "  # p(signal and state) = p(signal given state) * p(state)\n",
        "  # p(signal) = sum(p(signal and state) over states)\n",
        "\n",
        "\n",
        "  tp = get_signal_total_probability(experiment) \n",
        "\n",
        "  posterior = np.array([[experiment[i][j] * PRIOR[i] / tp[j] if tp[j] != 0 else 0 for j in range(NUM_DECISIONS)] for i in range(NUM_STATES)])\n",
        "\n",
        "  return posterior\n",
        "\n",
        "def test_get_posteriors():\n",
        "\n",
        "  assert((get_posteriors(MAX_INFORMATIVE_EXPERIMENT) == np.array([[1, 0], [0, 1]])).all())\n",
        "  assert((get_posteriors(UNINFORMATIVE_EXPERIMENT) == np.array([PRIOR, PRIOR])).all())\n",
        "\n",
        "\n",
        "test_get_posteriors()\n",
        "\n",
        "# posterior probabilities for uninformative to maximally informative experiment\n",
        "ts = np.linspace(0, 1, 100)\n",
        "ps = [(1 - t) * UNINFORMATIVE_EXPERIMENT + t * MAX_INFORMATIVE_EXPERIMENT for t in ts]\n",
        "tps = [get_posteriors(i) for i in ps]\n",
        "plt.plot(ts, [tps[n][0][0] for n in range(len(tps))])"
      ],
      "metadata": {
        "colab": {
          "base_uri": "https://localhost:8080/",
          "height": 283
        },
        "id": "4sAAlnh_md14",
        "outputId": "9ca79afb-3fc3-4d2b-a24f-6ac8b0ded053"
      },
      "execution_count": 5,
      "outputs": [
        {
          "output_type": "execute_result",
          "data": {
            "text/plain": [
              "[<matplotlib.lines.Line2D at 0x7fc28c130e90>]"
            ]
          },
          "metadata": {},
          "execution_count": 5
        },
        {
          "output_type": "display_data",
          "data": {
            "text/plain": [
              "<Figure size 432x288 with 1 Axes>"
            ],
            "image/png": "[encoded data removed]"
          },
          "metadata": {
            "needs_background": "light"
          }
        }
      ]
    },
    {
      "cell_type": "markdown",
      "source": [
        "## Cost Function"
      ],
      "metadata": {
        "id": "5YqPgNB7qOE3"
      }
    },
    {
      "cell_type": "code",
      "source": [
        "from IPython.core.events import post_run_cell\n",
        "\n",
        "\n",
        "def get_experiment_cost(experiment: List[List[float]]):\n",
        "\n",
        "  signal_total_probability = get_signal_total_probability(experiment)\n",
        "\n",
        "  posteriors = get_posteriors(experiment)\n",
        "\n",
        "  expected_posterior_entropy = sum(signal_total_probability[j] * get_entropy(posteriors[j]) for j in range(NUM_DECISIONS))\n",
        "\n",
        "  val = get_entropy(PRIOR) - expected_posterior_entropy \n",
        "\n",
        "  return val\n",
        "\n",
        "assert(get_experiment_cost(UNINFORMATIVE_EXPERIMENT) == 0)\n",
        "assert(get_experiment_cost(MAX_INFORMATIVE_EXPERIMENT) == get_entropy(PRIOR))\n",
        "\n",
        "\n",
        "# plot cost for uninformative to maximally informative experiment\n",
        "ts = np.linspace(0, 1, 100)\n",
        "ps = [(1 - t) * UNINFORMATIVE_EXPERIMENT + t * MAX_INFORMATIVE_EXPERIMENT for t in ts]\n",
        "ecs = [get_experiment_cost(i) for i in ps]\n",
        "plt.plot(ts, ecs)"
      ],
      "metadata": {
        "colab": {
          "base_uri": "https://localhost:8080/",
          "height": 283
        },
        "id": "WO7Wm0myoeR5",
        "outputId": "c94c35c9-b254-40ff-c094-657414e5e6e6"
      },
      "execution_count": 6,
      "outputs": [
        {
          "output_type": "execute_result",
          "data": {
            "text/plain": [
              "[<matplotlib.lines.Line2D at 0x7fc28c097f50>]"
            ]
          },
          "metadata": {},
          "execution_count": 6
        },
        {
          "output_type": "display_data",
          "data": {
            "text/plain": [
              "<Figure size 432x288 with 1 Axes>"
            ],
            "image/png": "[encoded data removed]"
          },
          "metadata": {
            "needs_background": "light"
          }
        }
      ]
    },
    {
      "cell_type": "markdown",
      "source": [
        "## Benefit Function"
      ],
      "metadata": {
        "id": "Qonth4G3xbx1"
      }
    },
    {
      "cell_type": "code",
      "source": [
        "\n",
        "def get_experiment_benefit(contract: List[List[float]], experiment: List[List[float]]):\n",
        "  \n",
        "  benefit = sum([experiment[i][j] * contract[i][j] for i in range(len(contract)) for j in range(len(contract[0]))])\n",
        "\n",
        "  return benefit\n",
        "\n",
        "\n",
        "# plot benefit for uninformative to maximally informative experiment\n",
        "ts = np.linspace(0, 1, 100)\n",
        "ps = [(1 - t) * UNINFORMATIVE_EXPERIMENT + t * MAX_INFORMATIVE_EXPERIMENT for t in ts]\n",
        "ebs = [get_experiment_benefit(CONTRACT, i) for i in ps]\n",
        "plt.plot(ts, ebs)"
      ],
      "metadata": {
        "colab": {
          "base_uri": "https://localhost:8080/",
          "height": 283
        },
        "id": "fEWMfyYBu70H",
        "outputId": "a1f234d6-68d5-4933-c01e-120afe3ad552"
      },
      "execution_count": 7,
      "outputs": [
        {
          "output_type": "execute_result",
          "data": {
            "text/plain": [
              "[<matplotlib.lines.Line2D at 0x7fc28c16e350>]"
            ]
          },
          "metadata": {},
          "execution_count": 7
        },
        {
          "output_type": "display_data",
          "data": {
            "text/plain": [
              "<Figure size 432x288 with 1 Axes>"
            ],
            "image/png": "[encoded data removed]"
          },
          "metadata": {
            "needs_background": "light"
          }
        }
      ]
    }
  ]
}